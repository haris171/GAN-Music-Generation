{
 "cells": [
  {
   "cell_type": "code",
   "execution_count": 3,
   "metadata": {},
   "outputs": [],
   "source": [
    "import torch\n",
    "from torch import nn\n",
    "from music21 import stream, note, duration"
   ]
  },
  {
   "cell_type": "code",
   "execution_count": 4,
   "metadata": {},
   "outputs": [],
   "source": [
    "class LSTMGenerator(nn.Module):\n",
    "    def __init__(self, input_size, hidden_size, output_size, num_layers):\n",
    "        super(LSTMGenerator, self).__init__()\n",
    "        self.hidden_size = hidden_size\n",
    "        self.num_layers = num_layers\n",
    "        self.lstm = nn.LSTM(input_size, hidden_size, num_layers, batch_first=True)\n",
    "        self.fc = nn.Linear(hidden_size, output_size)\n",
    "\n",
    "    def forward(self, x):\n",
    "        batch_size = x.size(0)\n",
    "        h0 = torch.zeros(2, batch_size, self.hidden_size).to(x.device)\n",
    "        c0 = torch.zeros(2, batch_size, self.hidden_size).to(x.device)\n",
    "        out, _ = self.lstm(x.unsqueeze(1), (h0, c0))\n",
    "        out = self.fc(out[:, -1, :])\n",
    "        return out\n",
    "\n",
    "def generate_music(generator, num_notes=100):\n",
    "    device = torch.device('cuda' if torch.cuda.is_available() else 'cpu')\n",
    "    generator.to(device)\n",
    "    generator.eval()\n",
    "\n",
    "    # Generate random input for the generator\n",
    "    input_noise = torch.randn(num_notes, 100).to(device)\n",
    "\n",
    "    # Generate output from the generator\n",
    "    with torch.no_grad():\n",
    "        generated_notes = generator(input_noise).cpu().numpy()\n",
    "\n",
    "    # Convert the generated notes into a music stream\n",
    "    music_stream = stream.Stream()\n",
    "\n",
    "    for note_data in generated_notes:\n",
    "        pitch = int(note_data[0])  # Assuming the first value represents the pitch\n",
    "        duration_value = float(note_data[1])  # Assuming the second value represents the duration\n",
    "        offset_value = float(note_data[2])  # Assuming the third value represents the offset\n",
    "\n",
    "        new_note = note.Note(pitch)\n",
    "        new_note.duration = duration.Duration(duration_value)\n",
    "        new_note.offset = offset_value\n",
    "\n",
    "        music_stream.append(new_note)\n",
    "\n",
    "    return music_stream"
   ]
  },
  {
   "cell_type": "code",
   "execution_count": 8,
   "metadata": {},
   "outputs": [
    {
     "name": "stdout",
     "output_type": "stream",
     "text": [
      "Generated music saved as 'generated_music.mid'\n"
     ]
    }
   ],
   "source": [
    "# Load the trained generator model\n",
    "generator = LSTMGenerator(input_size=100, hidden_size=256, output_size=3, num_layers=2)\n",
    "generator.load_state_dict(torch.load('models/generator_loss_0.1853.pth'))\n",
    "generator.eval()\n",
    "\n",
    "# Generate music using the trained generator model\n",
    "generated_music = generate_music(generator, num_notes=100)\n",
    "\n",
    "# Save the generated music as a MIDI file\n",
    "generated_music.write('midi', fp='generated_music.mid')\n",
    "\n",
    "print(\"Generated music saved as 'generated_music.mid'\")\n"
   ]
  }
 ],
 "metadata": {
  "kernelspec": {
   "display_name": "Python 3",
   "language": "python",
   "name": "python3"
  },
  "language_info": {
   "codemirror_mode": {
    "name": "ipython",
    "version": 3
   },
   "file_extension": ".py",
   "mimetype": "text/x-python",
   "name": "python",
   "nbconvert_exporter": "python",
   "pygments_lexer": "ipython3",
   "version": "3.9.6"
  }
 },
 "nbformat": 4,
 "nbformat_minor": 2
}
